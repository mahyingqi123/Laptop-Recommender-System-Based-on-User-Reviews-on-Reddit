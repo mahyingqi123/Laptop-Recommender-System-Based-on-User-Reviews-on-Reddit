{
 "cells": [
  {
   "cell_type": "code",
   "execution_count": 5,
   "metadata": {},
   "outputs": [
    {
     "name": "stdout",
     "output_type": "stream",
     "text": [
      "{'text': 'I want good graphics and a long battery life.', 'Quadruples': [{'aspect': 'graphics', 'polarity': 'positive', 'opinion': 'good', 'category': 'GRAPHICS#GENERAL'}, {'aspect': 'battery life', 'polarity': 'positive', 'opinion': 'long', 'category': 'BATTERY#OPERATION_PERFORMANCE'}]}\n",
      "{'text': 'I want good graphics and a long battery life.', 'Quadruples': [{'aspect': 'graphics', 'polarity': 'positive', 'opinion': 'good', 'category': 'GRAPHICS#GENERAL'}, {'aspect': 'battery life', 'polarity': 'positive', 'opinion': 'long', 'category': 'BATTERY#OPERATION_PERFORMANCE'}]}\n"
     ]
    }
   ],
   "source": [
    "from pyabsa import ABSAInstruction\n",
    "\n",
    "# change model_path to where u store the model\n",
    "model_path = r\"C:\\Users\\liewd\\Desktop\\FYP\\model\"\n",
    "model = ABSAInstruction.ABSAGenerator(model_path)\n",
    "\n",
    "# change text to the text you want to extract aspects from\n",
    "text = \"I want good graphics and a long battery life.\"\n",
    "print(model.predict(text))\n",
    "\n",
    "# Inside Quadruples extracted are the aspects "
   ]
  },
  {
   "cell_type": "code",
   "execution_count": null,
   "metadata": {},
   "outputs": [],
   "source": []
  }
 ],
 "metadata": {
  "kernelspec": {
   "display_name": "Python 3",
   "language": "python",
   "name": "python3"
  },
  "language_info": {
   "codemirror_mode": {
    "name": "ipython",
    "version": 3
   },
   "file_extension": ".py",
   "mimetype": "text/x-python",
   "name": "python",
   "nbconvert_exporter": "python",
   "pygments_lexer": "ipython3",
   "version": "3.10.0"
  }
 },
 "nbformat": 4,
 "nbformat_minor": 2
}
