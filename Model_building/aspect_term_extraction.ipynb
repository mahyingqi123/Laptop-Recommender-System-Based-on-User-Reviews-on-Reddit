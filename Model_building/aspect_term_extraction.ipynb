{
 "cells": [
  {
   "cell_type": "code",
   "execution_count": null,
   "metadata": {},
   "outputs": [],
   "source": [
    "from pyabsa import ABSAInstruction\n",
    "\n",
    "# change model_path to where u store the model\n",
    "model_path = \"model\"\n",
    "model = ABSAInstruction.ABSAGenerator(\"model\")\n",
    "\n",
    "# change text to the text you want to extract aspects from\n",
    "text = \"I want a laptop with good battery life. I want a big screen laptop for gaming.\"\n",
    "print(model.predict(text))\n",
    "\n",
    "# Inside Quadruples extracted are the aspects "
   ]
  }
 ],
 "metadata": {
  "language_info": {
   "name": "python"
  }
 },
 "nbformat": 4,
 "nbformat_minor": 2
}
