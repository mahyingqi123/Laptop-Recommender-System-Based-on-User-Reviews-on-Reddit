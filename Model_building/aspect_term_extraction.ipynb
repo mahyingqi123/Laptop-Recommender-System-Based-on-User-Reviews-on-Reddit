{
 "cells": [
  {
   "cell_type": "code",
   "execution_count": null,
   "metadata": {},
   "outputs": [],
   "source": [
    "from pyabsa import AspectTermExtraction as ATEPC\n",
    "from pyabsa import DatasetItem\n",
    "import warnings\n",
    "from pyabsa import ModelSaveOption, DeviceTypeOption\n",
    "\n",
    "\n",
    "aspect_extractor = ATEPC.AspectExtractor(checkpoint=\"ate_model_1/bert_base_atepc_Laptop14_cdw_apcacc_80.09_apcf1_76.74_atef1_76.13\", auto_device=DeviceTypeOption.AUTO)\n",
    "\n",
    "result = aspect_extractor.predict(\n",
    "        text=\"The screen is good, but the battery life is short.\",\n",
    "        print_result=True,\n",
    "        ignore_error=True,  # ignore an invalid example, if it is False, invalid examples will raise Exceptions\n",
    "        pred_sentiment=False,  # predict the sentiment polarity of the aspect term\n",
    "        eval_batch_size=32,\n",
    "    )\n",
    "\n",
    "print(result)\n",
    "\n"
   ]
  }
 ],
 "metadata": {
  "language_info": {
   "name": "python"
  }
 },
 "nbformat": 4,
 "nbformat_minor": 2
}
