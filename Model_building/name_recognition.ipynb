{
 "cells": [
  {
   "cell_type": "code",
   "execution_count": null,
   "metadata": {},
   "outputs": [],
   "source": [
    "import json\n",
    "import pandas as pd\n",
    "\n",
    "\n",
    "laptops = open('laptop_details.json', 'r')\n",
    "laptops = json.load(laptops)"
   ]
  },
  {
   "cell_type": "code",
   "execution_count": null,
   "metadata": {},
   "outputs": [],
   "source": [
    "laptops_without_name_variation = [laptop for laptop in laptops if 'name_variation' not in laptops[laptop]]\n",
    "print(laptops_without_name_variation)"
   ]
  },
  {
   "cell_type": "code",
   "execution_count": null,
   "metadata": {},
   "outputs": [],
   "source": [
    "comments = pd.read_csv('processed_comment_text.csv')\n",
    "comments = comments['text'].values"
   ]
  },
  {
   "cell_type": "code",
   "execution_count": null,
   "metadata": {},
   "outputs": [],
   "source": [
    "from fuzzywuzzy import fuzz\n",
    "checked = []\n",
    "x = set()\n",
    "for comment in comments:\n",
    "\n",
    "    # For each laptop\n",
    "    flag = False\n",
    "    count = 0\n",
    "    laptop_found = []\n",
    "    for laptop in laptops.keys():\n",
    "        # If the laptop name is found in the comment\n",
    "        for name in laptops[laptop]['name_variation']:\n",
    "            if fuzz.partial_ratio(str(name).lower(), str(comment).lower()) > 80:\n",
    "                laptop_found.append(laptop)\n",
    "                count += 1\n",
    "    checked.append(laptop_found)\n",
    "    "
   ]
  },
  {
   "cell_type": "code",
   "execution_count": null,
   "metadata": {},
   "outputs": [],
   "source": [
    "df = pd.read_csv('processed_comment_text.csv')\n",
    "df['laptop_found'] = checked"
   ]
  }
 ],
 "metadata": {
  "language_info": {
   "name": "python"
  }
 },
 "nbformat": 4,
 "nbformat_minor": 2
}
