{
 "cells": [
  {
   "cell_type": "code",
   "execution_count": null,
   "metadata": {},
   "outputs": [],
   "source": [
    "from transformers import pipeline\n",
    "\n",
    "# change model path to the path u store ur model\n",
    "model_path = './intent_recognition_model'\n",
    "classifier = pipeline('text-classification', model=model_path,max_length=512)\n",
    "\n",
    "# change text to what you want to classify\n",
    "text = \"I recommend lenovo legion 5 for its capability of gaming and computation power\"\n",
    "classifier(text)\n",
    "\n",
    "# first output indicates whether text is recommending a product, second output indicates the confidence of prediction"
   ]
  }
 ],
 "metadata": {
  "language_info": {
   "name": "python"
  }
 },
 "nbformat": 4,
 "nbformat_minor": 2
}
