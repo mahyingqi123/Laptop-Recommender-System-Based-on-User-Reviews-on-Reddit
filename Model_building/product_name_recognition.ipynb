{
 "cells": [
  {
   "cell_type": "code",
   "execution_count": null,
   "metadata": {},
   "outputs": [],
   "source": [
    "import json\n",
    "import pandas as pd\n",
    "from fuzzywuzzy import fuzz\n",
    "laptops = open('laptop_details.json', 'r')\n",
    "laptops = json.load(laptops)\n",
    "comments = pd.read_csv('comments.csv')\n",
    "comments = comments['text'].values\n",
    "\n",
    "checked = []\n",
    "x = set()\n",
    "for comment in comments:\n",
    "\n",
    "    # For each laptop\n",
    "    flag = False\n",
    "    count = 0\n",
    "    laptop_found = []\n",
    "    for laptop in laptops.keys():\n",
    "        # If the laptop name is found in the comment\n",
    "        for name in laptops[laptop]['name_variation']:\n",
    "            if fuzz.partial_ratio(str(name).lower(), str(comment).lower()) > 80:\n",
    "                laptop_found.append(laptop)\n",
    "                count += 1\n",
    "    checked.append(laptop_found)\n",
    "comments['laptop_found'] = checked\n",
    "comments.to_csv('comments_with_laptop.csv', index=False)"
   ]
  },
  {
   "cell_type": "code",
   "execution_count": 1,
   "metadata": {},
   "outputs": [
    {
     "name": "stdout",
     "output_type": "stream",
     "text": [
      "0.18.0\n"
     ]
    }
   ],
   "source": [
    "import fuzzywuzzy\n",
    "print(fuzzywuzzy.__version__)"
   ]
  }
 ],
 "metadata": {
  "kernelspec": {
   "display_name": "Python 3",
   "language": "python",
   "name": "python3"
  },
  "language_info": {
   "codemirror_mode": {
    "name": "ipython",
    "version": 3
   },
   "file_extension": ".py",
   "mimetype": "text/x-python",
   "name": "python",
   "nbconvert_exporter": "python",
   "pygments_lexer": "ipython3",
   "version": "3.11.5"
  }
 },
 "nbformat": 4,
 "nbformat_minor": 2
}
