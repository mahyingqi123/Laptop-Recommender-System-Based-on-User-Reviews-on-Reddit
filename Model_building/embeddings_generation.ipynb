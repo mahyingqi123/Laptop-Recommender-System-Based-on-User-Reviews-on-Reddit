{
 "cells": [
  {
   "cell_type": "code",
   "execution_count": 2,
   "metadata": {},
   "outputs": [
    {
     "data": {
      "text/plain": [
       "(3, 768)"
      ]
     },
     "execution_count": 2,
     "metadata": {},
     "output_type": "execute_result"
    }
   ],
   "source": [
    "from sentence_transformers import SentenceTransformer\n",
    "model = SentenceTransformer('bert-base-nli-mean-tokens')\n",
    "#Encoding:\n",
    "sen_embeddings = model.encode([\"Hello I'm a single sentence\",\n",
    "                               \"And another sentence\",\n",
    "                               \"And the very very last one\"])\n",
    "sen_embeddings.shape"
   ]
  },
  {
   "cell_type": "code",
   "execution_count": 8,
   "metadata": {},
   "outputs": [],
   "source": [
    "from sklearn.metrics.pairwise import cosine_similarity\n",
    "import pandas as pd\n",
    "df = pd.read_csv(\"submission.csv\")\n",
    "text = df[\"text\"].to_list()\n",
    "\n",
    "x = model.encode(text)\n",
    "\n",
    "df['embeddings'] = [str(i) for i in x]\n",
    "df.to_csv(\"submission_with_embeddings.csv\", index=False)\n"
   ]
  }
 ],
 "metadata": {
  "kernelspec": {
   "display_name": "Python 3",
   "language": "python",
   "name": "python3"
  },
  "language_info": {
   "codemirror_mode": {
    "name": "ipython",
    "version": 3
   },
   "file_extension": ".py",
   "mimetype": "text/x-python",
   "name": "python",
   "nbconvert_exporter": "python",
   "pygments_lexer": "ipython3",
   "version": "3.11.5"
  }
 },
 "nbformat": 4,
 "nbformat_minor": 2
}
